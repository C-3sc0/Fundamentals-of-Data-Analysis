{
 "cells": [
  {
   "cell_type": "markdown",
   "metadata": {},
   "source": [
    "## Fundamentals of Data Analysis Project\n",
    "\n",
    "**Francesco Troja**\n",
    "\n",
    "***"
   ]
  },
  {
   "cell_type": "markdown",
   "metadata": {},
   "source": [
    "#### Project\n",
    "\n",
    ">Create a notebook investigating the variables and data points within the well-known iris flower data set associated with Ronald A Fisher.\n",
    ">\n",
    ">• In the notebook, you should discuss the classification of each variable within the data set according to common variable types and scales of measurement in mathematics,>statistics, and Python.\n",
    ">\n",
    ">• Select, demonstrate, and explain the most appropriate summary statistics to describe each variable.\n",
    ">\n",
    ">• Select, demonstrate, and explain the most appropriate plot(s) foreach variable.\n",
    ">\n",
    ">• The notebook should follow a cohesive narrative about the dataset."
   ]
  },
  {
   "cell_type": "markdown",
   "metadata": {},
   "source": [
    "#### Import Python Libraries"
   ]
  },
  {
   "cell_type": "markdown",
   "metadata": {},
   "source": [
    "To execute this project, several Python libraries have been utilized. These libraries were chosen for their specific functionalities and capabilities, tailored to the requirements of the project:\n",
    "1. `padas`: The library's powerful data structures, including DataFrames and Series, allowed for efficient organization and structuring of data, making it easy to perform various data operations, such as filtering, grouping, and aggregating.Pandas offered a wide range of functions for data cleaning and preparation, making it ideal for addressing real-world data challenges[1]."
   ]
  },
  {
   "cell_type": "code",
   "execution_count": 30,
   "metadata": {},
   "outputs": [],
   "source": [
    "import pandas as pd\n",
    "import matplotlib.pyplot as plt"
   ]
  },
  {
   "cell_type": "markdown",
   "metadata": {},
   "source": [
    "#### Fisher's Iris Data set History"
   ]
  },
  {
   "cell_type": "markdown",
   "metadata": {},
   "source": [
    "The **Iris flower** dataset, also known as *Fisher's Iris* dataset, was introduced by British biologist and statistician Sir **Ronald Aylmer Fisher** in his 1936 article titled \"*The Use of Multiple Measurements in Taxonomic Problems*\". Additionally, the data set is sometimes referred to as *Anderson's Iris dataset*, as **Edgar Anderson** collected the data to quantify the morphological variation among *Iris flowers* from three related species. The collection process involved gathering two of the three species in the *Gaspé Peninsula* [2], \n",
    "\n",
    ">all from the same pasture, on the same day, and measuring them simultaneously using the same apparatus by the same person (ANDERSON, 1935, p. 1306),\n",
    "\n",
    "while for the Virgica species:\n",
    "\n",
    "> Some of my earliest experiences with species iris were with Iris setosa. Before setosa, though, was the \"versicolor,\" growing in our front yard when we moved here almost 40 years ago (we later learned this was I. virginica var. Shrevei, and thanks to the daughter who dug me a clump for Mother's Day before the low area was filled, I still have that one) (ANDERSON, 1935, p. 1312).\n",
    "\n",
    "In his paper, Fisher introduces the concept of **linear discriminant analysis** (LDA), a statistical method employed for dimensionality reduction and classification. The primary objective of LDA is to identify a linear combination of features that maximizes the separation between different classes while minimizing the variation within each class. Fisher's specific goal was to discover a linear combination of features that effectively characterizes or discriminates between two or more classes. To illustrate his approach, Fisher utilized the Iris dataset, which comprises measurements of `sepal length`, `sepal width`, `petal length`, and `petal width` for three species of iris flowers, `setosa`, `versicolor`, and `virginica` (refer below image). This dataset served as a practical example for demonstrating LDA. Fisher applied LDA to the iris dataset with the intention of differentiating between the three iris species. By analyzing the linear discriminants, he aimed to identify the features that contribute the most to the separation of the species[3].\n",
    "\n",
    "<center>\n",
    "\n",
    "<img src=https://miro.medium.com/v2/resize:fit:1400/1*f6KbPXwksAliMIsibFyGJw.png width=\"500\">\n",
    "\n",
    "</center>"
   ]
  },
  {
   "cell_type": "markdown",
   "metadata": {},
   "source": [
    "#### Reading Dataset\n"
   ]
  },
  {
   "cell_type": "markdown",
   "metadata": {},
   "source": [
    "When dealing with *datasets* in Python, there are multiple methods for importing data, providing a flexible approach. One common strategy is utilizing the *Pandas library* to directly import the dataset from its online source. This involves employing the `pandas.read_csv()` function to read the data directly from the provided *URL*. Alternatively, the dataset can be downloaded and *stored locally* as a *CSV file*. Subsequently, the data can be read from the CSV file by specifying its local file path. Both methods facilitate convenient access to the dataset. The choice between these approaches may depend on factors such as network connectivity and the requirement for offline access to the dataset. In this context, the **csv_url** variable is employed to store the URL of the Iris dataset, which is accessible from the [**UC Irvine Machine Learning Repository**](https://archive.ics.uci.edu/dataset/53/iris) [4]."
   ]
  },
  {
   "cell_type": "code",
   "execution_count": 12,
   "metadata": {},
   "outputs": [
    {
     "name": "stdout",
     "output_type": "stream",
     "text": [
      "Find below the Iris Dataset:\n",
      "\n"
     ]
    },
    {
     "data": {
      "text/html": [
       "<div>\n",
       "<style scoped>\n",
       "    .dataframe tbody tr th:only-of-type {\n",
       "        vertical-align: middle;\n",
       "    }\n",
       "\n",
       "    .dataframe tbody tr th {\n",
       "        vertical-align: top;\n",
       "    }\n",
       "\n",
       "    .dataframe thead th {\n",
       "        text-align: right;\n",
       "    }\n",
       "</style>\n",
       "<table border=\"1\" class=\"dataframe\">\n",
       "  <thead>\n",
       "    <tr style=\"text-align: right;\">\n",
       "      <th></th>\n",
       "      <th>5.1</th>\n",
       "      <th>3.5</th>\n",
       "      <th>1.4</th>\n",
       "      <th>0.2</th>\n",
       "      <th>Iris-setosa</th>\n",
       "    </tr>\n",
       "  </thead>\n",
       "  <tbody>\n",
       "    <tr>\n",
       "      <th>0</th>\n",
       "      <td>4.9</td>\n",
       "      <td>3.0</td>\n",
       "      <td>1.4</td>\n",
       "      <td>0.2</td>\n",
       "      <td>Iris-setosa</td>\n",
       "    </tr>\n",
       "    <tr>\n",
       "      <th>1</th>\n",
       "      <td>4.7</td>\n",
       "      <td>3.2</td>\n",
       "      <td>1.3</td>\n",
       "      <td>0.2</td>\n",
       "      <td>Iris-setosa</td>\n",
       "    </tr>\n",
       "    <tr>\n",
       "      <th>2</th>\n",
       "      <td>4.6</td>\n",
       "      <td>3.1</td>\n",
       "      <td>1.5</td>\n",
       "      <td>0.2</td>\n",
       "      <td>Iris-setosa</td>\n",
       "    </tr>\n",
       "    <tr>\n",
       "      <th>3</th>\n",
       "      <td>5.0</td>\n",
       "      <td>3.6</td>\n",
       "      <td>1.4</td>\n",
       "      <td>0.2</td>\n",
       "      <td>Iris-setosa</td>\n",
       "    </tr>\n",
       "    <tr>\n",
       "      <th>4</th>\n",
       "      <td>5.4</td>\n",
       "      <td>3.9</td>\n",
       "      <td>1.7</td>\n",
       "      <td>0.4</td>\n",
       "      <td>Iris-setosa</td>\n",
       "    </tr>\n",
       "    <tr>\n",
       "      <th>...</th>\n",
       "      <td>...</td>\n",
       "      <td>...</td>\n",
       "      <td>...</td>\n",
       "      <td>...</td>\n",
       "      <td>...</td>\n",
       "    </tr>\n",
       "    <tr>\n",
       "      <th>144</th>\n",
       "      <td>6.7</td>\n",
       "      <td>3.0</td>\n",
       "      <td>5.2</td>\n",
       "      <td>2.3</td>\n",
       "      <td>Iris-virginica</td>\n",
       "    </tr>\n",
       "    <tr>\n",
       "      <th>145</th>\n",
       "      <td>6.3</td>\n",
       "      <td>2.5</td>\n",
       "      <td>5.0</td>\n",
       "      <td>1.9</td>\n",
       "      <td>Iris-virginica</td>\n",
       "    </tr>\n",
       "    <tr>\n",
       "      <th>146</th>\n",
       "      <td>6.5</td>\n",
       "      <td>3.0</td>\n",
       "      <td>5.2</td>\n",
       "      <td>2.0</td>\n",
       "      <td>Iris-virginica</td>\n",
       "    </tr>\n",
       "    <tr>\n",
       "      <th>147</th>\n",
       "      <td>6.2</td>\n",
       "      <td>3.4</td>\n",
       "      <td>5.4</td>\n",
       "      <td>2.3</td>\n",
       "      <td>Iris-virginica</td>\n",
       "    </tr>\n",
       "    <tr>\n",
       "      <th>148</th>\n",
       "      <td>5.9</td>\n",
       "      <td>3.0</td>\n",
       "      <td>5.1</td>\n",
       "      <td>1.8</td>\n",
       "      <td>Iris-virginica</td>\n",
       "    </tr>\n",
       "  </tbody>\n",
       "</table>\n",
       "<p>149 rows × 5 columns</p>\n",
       "</div>"
      ],
      "text/plain": [
       "     5.1  3.5  1.4  0.2     Iris-setosa\n",
       "0    4.9  3.0  1.4  0.2     Iris-setosa\n",
       "1    4.7  3.2  1.3  0.2     Iris-setosa\n",
       "2    4.6  3.1  1.5  0.2     Iris-setosa\n",
       "3    5.0  3.6  1.4  0.2     Iris-setosa\n",
       "4    5.4  3.9  1.7  0.4     Iris-setosa\n",
       "..   ...  ...  ...  ...             ...\n",
       "144  6.7  3.0  5.2  2.3  Iris-virginica\n",
       "145  6.3  2.5  5.0  1.9  Iris-virginica\n",
       "146  6.5  3.0  5.2  2.0  Iris-virginica\n",
       "147  6.2  3.4  5.4  2.3  Iris-virginica\n",
       "148  5.9  3.0  5.1  1.8  Iris-virginica\n",
       "\n",
       "[149 rows x 5 columns]"
      ]
     },
     "execution_count": 12,
     "metadata": {},
     "output_type": "execute_result"
    }
   ],
   "source": [
    "# store the dataset link in a variable\n",
    "csv_url = 'https://archive.ics.uci.edu/ml/machine-learning-databases/iris/iris.data'\n",
    "iris = pd.read_csv(csv_url)\n",
    "\n",
    "print('Find below the Iris Dataset:\\n')\n",
    "iris"
   ]
  },
  {
   "cell_type": "markdown",
   "metadata": {},
   "source": [
    "#### Exploratory Data Analysis\n"
   ]
  },
  {
   "cell_type": "markdown",
   "metadata": {},
   "source": [
    "The *Iris dataset* displayed above reveals a remarkable issue: the attribute names information is not included in the main file from the *UCI Machine Learning Repository*. Instead, this information is stored in a separate file located in the **[iris.names](https://archive.ics.uci.edu/ml/machine-learning-databases/iris/iris.names)** section. This additional file offers essential information regarding the four measurement attributes (**sepal length in cm**, **sepal width in cm**, **petal length in cm**, **petal width in cm**) and the three distinct classes (**Iris Setosa**, **Iris Versicolor**, and **Iris Virginica**). This attribute information is crucial for accurately interpreting and understanding the dataset's contents, providing context for each attribute's significance and contributing to a more comprehensive analysis. To enhance accessibility and readability, the file containing attribute names has been added to the repository. This additional step ensures that essential attribute information is readily available for a comprehensive understanding of the dataset.\n",
    "\n",
    "To overcome the issue of missing attribute names in the dataset, the `read_csv()` function provides an argument called `names`, which allows users to specify a list of names to be used for the columns in the DataFrame. In the case of the present dataset, a list named **attribute_names** has been created, containing the attribute names. This list is then passed as an argument to the `names` parameter of the `read_csv()` function, ensuring that the specified names are used for the DataFrame columns instead of relying on the first row in the CSV file as the header row[5]."
   ]
  },
  {
   "cell_type": "code",
   "execution_count": 13,
   "metadata": {},
   "outputs": [
    {
     "name": "stdout",
     "output_type": "stream",
     "text": [
      "Modifying the attribute names in the dataset:\n",
      "\n"
     ]
    },
    {
     "data": {
      "text/html": [
       "<div>\n",
       "<style scoped>\n",
       "    .dataframe tbody tr th:only-of-type {\n",
       "        vertical-align: middle;\n",
       "    }\n",
       "\n",
       "    .dataframe tbody tr th {\n",
       "        vertical-align: top;\n",
       "    }\n",
       "\n",
       "    .dataframe thead th {\n",
       "        text-align: right;\n",
       "    }\n",
       "</style>\n",
       "<table border=\"1\" class=\"dataframe\">\n",
       "  <thead>\n",
       "    <tr style=\"text-align: right;\">\n",
       "      <th></th>\n",
       "      <th>Sepal_Length (cm)</th>\n",
       "      <th>Sepal_Width (cm)</th>\n",
       "      <th>Petal_Length (cm)</th>\n",
       "      <th>Petal_Width (cm)</th>\n",
       "      <th>Class</th>\n",
       "    </tr>\n",
       "  </thead>\n",
       "  <tbody>\n",
       "    <tr>\n",
       "      <th>0</th>\n",
       "      <td>5.1</td>\n",
       "      <td>3.5</td>\n",
       "      <td>1.4</td>\n",
       "      <td>0.2</td>\n",
       "      <td>Iris-setosa</td>\n",
       "    </tr>\n",
       "    <tr>\n",
       "      <th>1</th>\n",
       "      <td>4.9</td>\n",
       "      <td>3.0</td>\n",
       "      <td>1.4</td>\n",
       "      <td>0.2</td>\n",
       "      <td>Iris-setosa</td>\n",
       "    </tr>\n",
       "    <tr>\n",
       "      <th>2</th>\n",
       "      <td>4.7</td>\n",
       "      <td>3.2</td>\n",
       "      <td>1.3</td>\n",
       "      <td>0.2</td>\n",
       "      <td>Iris-setosa</td>\n",
       "    </tr>\n",
       "    <tr>\n",
       "      <th>3</th>\n",
       "      <td>4.6</td>\n",
       "      <td>3.1</td>\n",
       "      <td>1.5</td>\n",
       "      <td>0.2</td>\n",
       "      <td>Iris-setosa</td>\n",
       "    </tr>\n",
       "    <tr>\n",
       "      <th>4</th>\n",
       "      <td>5.0</td>\n",
       "      <td>3.6</td>\n",
       "      <td>1.4</td>\n",
       "      <td>0.2</td>\n",
       "      <td>Iris-setosa</td>\n",
       "    </tr>\n",
       "    <tr>\n",
       "      <th>...</th>\n",
       "      <td>...</td>\n",
       "      <td>...</td>\n",
       "      <td>...</td>\n",
       "      <td>...</td>\n",
       "      <td>...</td>\n",
       "    </tr>\n",
       "    <tr>\n",
       "      <th>145</th>\n",
       "      <td>6.7</td>\n",
       "      <td>3.0</td>\n",
       "      <td>5.2</td>\n",
       "      <td>2.3</td>\n",
       "      <td>Iris-virginica</td>\n",
       "    </tr>\n",
       "    <tr>\n",
       "      <th>146</th>\n",
       "      <td>6.3</td>\n",
       "      <td>2.5</td>\n",
       "      <td>5.0</td>\n",
       "      <td>1.9</td>\n",
       "      <td>Iris-virginica</td>\n",
       "    </tr>\n",
       "    <tr>\n",
       "      <th>147</th>\n",
       "      <td>6.5</td>\n",
       "      <td>3.0</td>\n",
       "      <td>5.2</td>\n",
       "      <td>2.0</td>\n",
       "      <td>Iris-virginica</td>\n",
       "    </tr>\n",
       "    <tr>\n",
       "      <th>148</th>\n",
       "      <td>6.2</td>\n",
       "      <td>3.4</td>\n",
       "      <td>5.4</td>\n",
       "      <td>2.3</td>\n",
       "      <td>Iris-virginica</td>\n",
       "    </tr>\n",
       "    <tr>\n",
       "      <th>149</th>\n",
       "      <td>5.9</td>\n",
       "      <td>3.0</td>\n",
       "      <td>5.1</td>\n",
       "      <td>1.8</td>\n",
       "      <td>Iris-virginica</td>\n",
       "    </tr>\n",
       "  </tbody>\n",
       "</table>\n",
       "<p>150 rows × 5 columns</p>\n",
       "</div>"
      ],
      "text/plain": [
       "     Sepal_Length (cm)  Sepal_Width (cm)  Petal_Length (cm)  Petal_Width (cm)  \\\n",
       "0                  5.1               3.5                1.4               0.2   \n",
       "1                  4.9               3.0                1.4               0.2   \n",
       "2                  4.7               3.2                1.3               0.2   \n",
       "3                  4.6               3.1                1.5               0.2   \n",
       "4                  5.0               3.6                1.4               0.2   \n",
       "..                 ...               ...                ...               ...   \n",
       "145                6.7               3.0                5.2               2.3   \n",
       "146                6.3               2.5                5.0               1.9   \n",
       "147                6.5               3.0                5.2               2.0   \n",
       "148                6.2               3.4                5.4               2.3   \n",
       "149                5.9               3.0                5.1               1.8   \n",
       "\n",
       "              Class  \n",
       "0       Iris-setosa  \n",
       "1       Iris-setosa  \n",
       "2       Iris-setosa  \n",
       "3       Iris-setosa  \n",
       "4       Iris-setosa  \n",
       "..              ...  \n",
       "145  Iris-virginica  \n",
       "146  Iris-virginica  \n",
       "147  Iris-virginica  \n",
       "148  Iris-virginica  \n",
       "149  Iris-virginica  \n",
       "\n",
       "[150 rows x 5 columns]"
      ]
     },
     "execution_count": 13,
     "metadata": {},
     "output_type": "execute_result"
    }
   ],
   "source": [
    "# Define the names of the columns in the dataset\n",
    "attribute_names = ['Sepal_Length (cm)', 'Sepal_Width (cm)', 'Petal_Length (cm)', 'Petal_Width (cm)', 'Class']\n",
    "iris = pd.read_csv(csv_url, names = attribute_names)\n",
    "\n",
    "print('Modifying the attribute names in the dataset:\\n')\n",
    "iris\n"
   ]
  },
  {
   "cell_type": "markdown",
   "metadata": {},
   "source": [
    "The dataset's structure and characteristics can be explored through statistical analysis. Insights into the data, including the number of rows and columns, values, data types, and missing values, are crucial for a comprehensive understanding. Utilizing the Pandas `head()` method provides a view of the top rows (default is 5), while the `tail()` method showcases the bottom rows (default is 5), aiding in initial exploration and assessment[6]."
   ]
  },
  {
   "cell_type": "code",
   "execution_count": 14,
   "metadata": {},
   "outputs": [
    {
     "name": "stdout",
     "output_type": "stream",
     "text": [
      "the first 5 rows of the dataset:\n"
     ]
    },
    {
     "data": {
      "text/html": [
       "<div>\n",
       "<style scoped>\n",
       "    .dataframe tbody tr th:only-of-type {\n",
       "        vertical-align: middle;\n",
       "    }\n",
       "\n",
       "    .dataframe tbody tr th {\n",
       "        vertical-align: top;\n",
       "    }\n",
       "\n",
       "    .dataframe thead th {\n",
       "        text-align: right;\n",
       "    }\n",
       "</style>\n",
       "<table border=\"1\" class=\"dataframe\">\n",
       "  <thead>\n",
       "    <tr style=\"text-align: right;\">\n",
       "      <th></th>\n",
       "      <th>Sepal_Length (cm)</th>\n",
       "      <th>Sepal_Width (cm)</th>\n",
       "      <th>Petal_Length (cm)</th>\n",
       "      <th>Petal_Width (cm)</th>\n",
       "      <th>Class</th>\n",
       "    </tr>\n",
       "  </thead>\n",
       "  <tbody>\n",
       "    <tr>\n",
       "      <th>0</th>\n",
       "      <td>5.1</td>\n",
       "      <td>3.5</td>\n",
       "      <td>1.4</td>\n",
       "      <td>0.2</td>\n",
       "      <td>Iris-setosa</td>\n",
       "    </tr>\n",
       "    <tr>\n",
       "      <th>1</th>\n",
       "      <td>4.9</td>\n",
       "      <td>3.0</td>\n",
       "      <td>1.4</td>\n",
       "      <td>0.2</td>\n",
       "      <td>Iris-setosa</td>\n",
       "    </tr>\n",
       "    <tr>\n",
       "      <th>2</th>\n",
       "      <td>4.7</td>\n",
       "      <td>3.2</td>\n",
       "      <td>1.3</td>\n",
       "      <td>0.2</td>\n",
       "      <td>Iris-setosa</td>\n",
       "    </tr>\n",
       "    <tr>\n",
       "      <th>3</th>\n",
       "      <td>4.6</td>\n",
       "      <td>3.1</td>\n",
       "      <td>1.5</td>\n",
       "      <td>0.2</td>\n",
       "      <td>Iris-setosa</td>\n",
       "    </tr>\n",
       "    <tr>\n",
       "      <th>4</th>\n",
       "      <td>5.0</td>\n",
       "      <td>3.6</td>\n",
       "      <td>1.4</td>\n",
       "      <td>0.2</td>\n",
       "      <td>Iris-setosa</td>\n",
       "    </tr>\n",
       "  </tbody>\n",
       "</table>\n",
       "</div>"
      ],
      "text/plain": [
       "   Sepal_Length (cm)  Sepal_Width (cm)  Petal_Length (cm)  Petal_Width (cm)  \\\n",
       "0                5.1               3.5                1.4               0.2   \n",
       "1                4.9               3.0                1.4               0.2   \n",
       "2                4.7               3.2                1.3               0.2   \n",
       "3                4.6               3.1                1.5               0.2   \n",
       "4                5.0               3.6                1.4               0.2   \n",
       "\n",
       "         Class  \n",
       "0  Iris-setosa  \n",
       "1  Iris-setosa  \n",
       "2  Iris-setosa  \n",
       "3  Iris-setosa  \n",
       "4  Iris-setosa  "
      ]
     },
     "execution_count": 14,
     "metadata": {},
     "output_type": "execute_result"
    }
   ],
   "source": [
    "print('the first 5 rows of the dataset:')\n",
    "iris.head()"
   ]
  },
  {
   "cell_type": "code",
   "execution_count": 15,
   "metadata": {},
   "outputs": [
    {
     "name": "stdout",
     "output_type": "stream",
     "text": [
      "the last 10 rows of the dataset:\n"
     ]
    },
    {
     "data": {
      "text/html": [
       "<div>\n",
       "<style scoped>\n",
       "    .dataframe tbody tr th:only-of-type {\n",
       "        vertical-align: middle;\n",
       "    }\n",
       "\n",
       "    .dataframe tbody tr th {\n",
       "        vertical-align: top;\n",
       "    }\n",
       "\n",
       "    .dataframe thead th {\n",
       "        text-align: right;\n",
       "    }\n",
       "</style>\n",
       "<table border=\"1\" class=\"dataframe\">\n",
       "  <thead>\n",
       "    <tr style=\"text-align: right;\">\n",
       "      <th></th>\n",
       "      <th>Sepal_Length (cm)</th>\n",
       "      <th>Sepal_Width (cm)</th>\n",
       "      <th>Petal_Length (cm)</th>\n",
       "      <th>Petal_Width (cm)</th>\n",
       "      <th>Class</th>\n",
       "    </tr>\n",
       "  </thead>\n",
       "  <tbody>\n",
       "    <tr>\n",
       "      <th>140</th>\n",
       "      <td>6.7</td>\n",
       "      <td>3.1</td>\n",
       "      <td>5.6</td>\n",
       "      <td>2.4</td>\n",
       "      <td>Iris-virginica</td>\n",
       "    </tr>\n",
       "    <tr>\n",
       "      <th>141</th>\n",
       "      <td>6.9</td>\n",
       "      <td>3.1</td>\n",
       "      <td>5.1</td>\n",
       "      <td>2.3</td>\n",
       "      <td>Iris-virginica</td>\n",
       "    </tr>\n",
       "    <tr>\n",
       "      <th>142</th>\n",
       "      <td>5.8</td>\n",
       "      <td>2.7</td>\n",
       "      <td>5.1</td>\n",
       "      <td>1.9</td>\n",
       "      <td>Iris-virginica</td>\n",
       "    </tr>\n",
       "    <tr>\n",
       "      <th>143</th>\n",
       "      <td>6.8</td>\n",
       "      <td>3.2</td>\n",
       "      <td>5.9</td>\n",
       "      <td>2.3</td>\n",
       "      <td>Iris-virginica</td>\n",
       "    </tr>\n",
       "    <tr>\n",
       "      <th>144</th>\n",
       "      <td>6.7</td>\n",
       "      <td>3.3</td>\n",
       "      <td>5.7</td>\n",
       "      <td>2.5</td>\n",
       "      <td>Iris-virginica</td>\n",
       "    </tr>\n",
       "    <tr>\n",
       "      <th>145</th>\n",
       "      <td>6.7</td>\n",
       "      <td>3.0</td>\n",
       "      <td>5.2</td>\n",
       "      <td>2.3</td>\n",
       "      <td>Iris-virginica</td>\n",
       "    </tr>\n",
       "    <tr>\n",
       "      <th>146</th>\n",
       "      <td>6.3</td>\n",
       "      <td>2.5</td>\n",
       "      <td>5.0</td>\n",
       "      <td>1.9</td>\n",
       "      <td>Iris-virginica</td>\n",
       "    </tr>\n",
       "    <tr>\n",
       "      <th>147</th>\n",
       "      <td>6.5</td>\n",
       "      <td>3.0</td>\n",
       "      <td>5.2</td>\n",
       "      <td>2.0</td>\n",
       "      <td>Iris-virginica</td>\n",
       "    </tr>\n",
       "    <tr>\n",
       "      <th>148</th>\n",
       "      <td>6.2</td>\n",
       "      <td>3.4</td>\n",
       "      <td>5.4</td>\n",
       "      <td>2.3</td>\n",
       "      <td>Iris-virginica</td>\n",
       "    </tr>\n",
       "    <tr>\n",
       "      <th>149</th>\n",
       "      <td>5.9</td>\n",
       "      <td>3.0</td>\n",
       "      <td>5.1</td>\n",
       "      <td>1.8</td>\n",
       "      <td>Iris-virginica</td>\n",
       "    </tr>\n",
       "  </tbody>\n",
       "</table>\n",
       "</div>"
      ],
      "text/plain": [
       "     Sepal_Length (cm)  Sepal_Width (cm)  Petal_Length (cm)  Petal_Width (cm)  \\\n",
       "140                6.7               3.1                5.6               2.4   \n",
       "141                6.9               3.1                5.1               2.3   \n",
       "142                5.8               2.7                5.1               1.9   \n",
       "143                6.8               3.2                5.9               2.3   \n",
       "144                6.7               3.3                5.7               2.5   \n",
       "145                6.7               3.0                5.2               2.3   \n",
       "146                6.3               2.5                5.0               1.9   \n",
       "147                6.5               3.0                5.2               2.0   \n",
       "148                6.2               3.4                5.4               2.3   \n",
       "149                5.9               3.0                5.1               1.8   \n",
       "\n",
       "              Class  \n",
       "140  Iris-virginica  \n",
       "141  Iris-virginica  \n",
       "142  Iris-virginica  \n",
       "143  Iris-virginica  \n",
       "144  Iris-virginica  \n",
       "145  Iris-virginica  \n",
       "146  Iris-virginica  \n",
       "147  Iris-virginica  \n",
       "148  Iris-virginica  \n",
       "149  Iris-virginica  "
      ]
     },
     "execution_count": 15,
     "metadata": {},
     "output_type": "execute_result"
    }
   ],
   "source": [
    "print('the last 10 rows of the dataset:')\n",
    "iris.tail(10)"
   ]
  },
  {
   "cell_type": "markdown",
   "metadata": {},
   "source": [
    "As evident from the provided code, the selected dataset comprises **150 rows** and **5 columns**. The dimensionality of the dataset, can be confirmed using the Pandas function `shape` that when used it returns a tuple where the first element represents the number of rows (observations) and the second element indicates the number of columns (variables) in the dataset[7]."
   ]
  },
  {
   "cell_type": "code",
   "execution_count": 16,
   "metadata": {},
   "outputs": [
    {
     "name": "stdout",
     "output_type": "stream",
     "text": [
      "The dimensions of the dataset are: (150, 5)\n",
      "The number of row are: 150\n",
      "The number of Attributes are: 5\n"
     ]
    }
   ],
   "source": [
    "print(f'The dimensions of the dataset are: {iris.shape}')\n",
    "print(f'The number of row are: {iris.shape[0]}')\n",
    "print (f'The number of Attributes are: {iris.shape[1]}')"
   ]
  },
  {
   "cell_type": "markdown",
   "metadata": {},
   "source": [
    "Let's explore the dataset further by utilizing the `info()` function provided by the *pandas library*. This function offers a concise **summary of the dataset**, presenting details such as *column data types*, the count of *non-null values* in each column, and the overall *memory usage*. The `info()` function prints the generated summary that will provide with essential insights into the structure and characteristics of the iris dataset[8]."
   ]
  },
  {
   "cell_type": "code",
   "execution_count": 39,
   "metadata": {},
   "outputs": [
    {
     "name": "stdout",
     "output_type": "stream",
     "text": [
      "Please show the concise summary of the Dataset:\n",
      "\n",
      "<class 'pandas.core.frame.DataFrame'>\n",
      "RangeIndex: 150 entries, 0 to 149\n",
      "Data columns (total 5 columns):\n",
      " #   Column             Non-Null Count  Dtype  \n",
      "---  ------             --------------  -----  \n",
      " 0   Sepal_Length (cm)  150 non-null    float64\n",
      " 1   Sepal_Width (cm)   150 non-null    float64\n",
      " 2   Petal_Length (cm)  150 non-null    float64\n",
      " 3   Petal_Width (cm)   150 non-null    float64\n",
      " 4   Class              150 non-null    object \n",
      "dtypes: float64(4), object(1)\n",
      "memory usage: 6.0+ KB\n"
     ]
    }
   ],
   "source": [
    "print('Please show the concise summary of the Dataset:\\n')\n",
    "iris.info()"
   ]
  },
  {
   "cell_type": "markdown",
   "metadata": {},
   "source": [
    "The summary of the dataset indicates that it comprises **5 columns** with a *mix of data types*. Specifically, **4 attributes** (Sepal/Petal Length, Sepal/Petal Width) have the data type *float*, while **1 attribute** (Class) has the data type *object*. The distinction between these data types lies in their representation: generally, **float** refers to *numerical values with decimal points*, while **object** can encompass various data types, including *strings* or *mixed* types[9]. "
   ]
  },
  {
   "cell_type": "markdown",
   "metadata": {},
   "source": [
    "Another *important step* in comprehending the dataset is to assess not only the presence of **missing values** but also identify **duplicate rows**. To show the count of rows with null values, the `isnull()` function is employed. This function marks the occurrences of missing or null values within the dataset. To ascertain the specific number of missing values for each variable, the `sum()` function can be applied in conjunction with the `isnull()` function[10]."
   ]
  },
  {
   "cell_type": "code",
   "execution_count": 18,
   "metadata": {},
   "outputs": [
    {
     "name": "stdout",
     "output_type": "stream",
     "text": [
      "The missing values are:\n"
     ]
    },
    {
     "data": {
      "text/plain": [
       "Sepal_Length (cm)    0\n",
       "Sepal_Width (cm)     0\n",
       "Petal_Length (cm)    0\n",
       "Petal_Width (cm)     0\n",
       "Class                0\n",
       "dtype: int64"
      ]
     },
     "execution_count": 18,
     "metadata": {},
     "output_type": "execute_result"
    }
   ],
   "source": [
    "print('The missing values are:')\n",
    "iris.isnull().sum()"
   ]
  },
  {
   "cell_type": "markdown",
   "metadata": {},
   "source": [
    "The presence of duplicate rows in the dataset is assessed using the `duplicated()` function in conjunction with `sum()`[11]."
   ]
  },
  {
   "cell_type": "code",
   "execution_count": 19,
   "metadata": {},
   "outputs": [
    {
     "name": "stdout",
     "output_type": "stream",
     "text": [
      "The number of Duplicated Rows is: 3\n"
     ]
    }
   ],
   "source": [
    "print(f'The number of Duplicated Rows is: {iris.duplicated().sum()}')\n"
   ]
  },
  {
   "cell_type": "markdown",
   "metadata": {},
   "source": [
    "The analysis outcome indicates that there are **no missing values** within the dataset, but there are **3 duplicate rows**. Handling duplicate rows is crucial, and the appropriate action depends on the analysis's goals. Options include removing the duplicate rows or employing other strategies to ensure the dataset's accuracy and suitability for the intended analysis. Depending on the context and requirements, decisions on how to manage duplicates should align with maintaining data integrity and achieving the analysis objectives."
   ]
  },
  {
   "cell_type": "markdown",
   "metadata": {},
   "source": [
    "#### Variable Types"
   ]
  },
  {
   "cell_type": "markdown",
   "metadata": {},
   "source": [
    "Having unveiled the dataset's surface, it's time to delve deeper into the analysis and exploring the characteristics of different variables within the dataset. In a dataset, *two types* of variables exist, namely **Categorical** Variables and **Numerical** Variables and understanding the distinction between them is crucial, as it affects the choice of analytical methods and visualization techniques."
   ]
  },
  {
   "cell_type": "markdown",
   "metadata": {},
   "source": [
    "#### Categorical Variables"
   ]
  },
  {
   "cell_type": "markdown",
   "metadata": {},
   "source": [
    "**Categorical variables** represent *categories* or *groups*. These categories can be **Nominal**, **Ordinal** or **Binary**. *Nominal categories* have *no inherent order* (e.g., colors, types of fruit), *ordinal categories* have a *meaningful order* (e.g., education levels, customer satisfaction ratings), while binary variables, also known as *dichotomous variables*, represent information in a *yes/no* or *true/false* format. Exploring categorical variables requires an in-depth analysis that encompasses various methods. This typically involves conducting a frequency analysis to count the occurrences of each category, calculating the corresponding percentages, and employing visualizations like bar charts, pie charts, and stacked bar charts for enhanced understanding and representation of the data distribution. These visualizations serve as effective tools in disclose the composition and proportions of different categories within the dataset[12]."
   ]
  },
  {
   "cell_type": "markdown",
   "metadata": {},
   "source": [
    "The Pandas `unique()` function is a handy tool for identifying and extracting *distinct values* within a categorical variable in a dataset. When applied to a specific column, it returns an *array* containing the unique values present in that column. In the given dataset, the only categorical variable is **\"Class\"**. Let's examine this variable and explore the unique values it contains:"
   ]
  },
  {
   "cell_type": "code",
   "execution_count": 26,
   "metadata": {},
   "outputs": [
    {
     "name": "stdout",
     "output_type": "stream",
     "text": [
      "The unique values for the Class attribute are: ['Iris-setosa' 'Iris-versicolor' 'Iris-virginica']\n"
     ]
    }
   ],
   "source": [
    "print(f\"The unique values for the Class attribute are: {iris['Class'].unique()}\")"
   ]
  },
  {
   "cell_type": "markdown",
   "metadata": {},
   "source": [
    "the code has affirmed the presence of three distinct classes in the Iris dataset, namely:\n",
    "\n",
    "- Setosa\n",
    "- Versicolor\n",
    "- Virginica\n"
   ]
  },
  {
   "cell_type": "markdown",
   "metadata": {},
   "source": [
    "To better understand the **distribution** of these classes within the dataset and ascertain whether they are balanced, we can utilize the `value_counts()` function in Python. This function provides the *count of unique values* for a categorical variable, offering insights into the distribution of each category."
   ]
  },
  {
   "cell_type": "code",
   "execution_count": 28,
   "metadata": {},
   "outputs": [
    {
     "name": "stdout",
     "output_type": "stream",
     "text": [
      "Distribution of the 3 Iris Flowr in the dataset: \n",
      "\n",
      "Class\n",
      "Iris-setosa        50\n",
      "Iris-versicolor    50\n",
      "Iris-virginica     50\n",
      "Name: count, dtype: int64\n"
     ]
    }
   ],
   "source": [
    "print(\"Distribution of the 3 Iris Flowr in the dataset: \\n\")\n",
    "print(iris[\"Class\"].value_counts())"
   ]
  },
  {
   "cell_type": "markdown",
   "metadata": {},
   "source": [
    "The categorical variable **\"Class\"** in the iris dataset exhibits a *balanced distribution*, with each class (\"setosa,\" \"versicolor,\" and \"virginica\") having an *equal number of entries*. This balanced distribution is beneficial for certain analyses as it ensures that each class is adequately represented in the dataset, minimizing potential biases in the results."
   ]
  },
  {
   "cell_type": "markdown",
   "metadata": {},
   "source": [
    "Let's proceed with **visualizing** the categorical variable \"Class\" in the iris dataset using three different chart types: **Pie Chart** and **Column Bar Chart**:"
   ]
  },
  {
   "cell_type": "markdown",
   "metadata": {},
   "source": [
    "**Pie charts** are used as visualization tool for displaying the distribution of categorical data. They represent parts of a whole and are effective for illustrating proportions or percentages within a dataset. Each slice of the pie corresponds to a specific category, and the size of the slice is proportional to the relative frequency or percentage of that category in the dataset[13]."
   ]
  },
  {
   "cell_type": "code",
   "execution_count": 50,
   "metadata": {},
   "outputs": [
    {
     "data": {
      "image/png": "[encoded data removed]",
      "text/plain": [
       "<Figure size 640x480 with 1 Axes>"
      ]
     },
     "metadata": {},
     "output_type": "display_data"
    }
   ],
   "source": [
    "#creating a Pie chart\n",
    "fig, ax = plt.subplots()\n",
    "# autopct: display the percentage of each segment\n",
    "ax.pie(iris['Class'].value_counts(),labels= ['Setosa', 'Versicolor', 'Virginica'], autopct='%1.1f%%',explode= [0.1,0.1,0.1], shadow =True)\n",
    "plt.title('Iris Flower Pie Chart')\n",
    "#plt.savefig('Pie Chart for Class Attribute.png')\n",
    "plt.show()"
   ]
  },
  {
   "cell_type": "markdown",
   "metadata": {},
   "source": [
    "**Bar graph** is a visual representation of data that uses rectangular bars to show the values of different categories. In a bar graph, one axis typically represents the categories or labels, while the other axis represents the numerical values or counts associated with each category. The length or height of each bar corresponds to the magnitude of the data it represents. Bar graphs can be plotted either vertically or horizontally, depending on the orientation that best suits the presentation of the data[14]."
   ]
  },
  {
   "cell_type": "code",
   "execution_count": 46,
   "metadata": {},
   "outputs": [
    {
     "data": {
      "image/png": "[encoded data removed]",
      "text/plain": [
       "<Figure size 640x480 with 1 Axes>"
      ]
     },
     "metadata": {},
     "output_type": "display_data"
    }
   ],
   "source": [
    "fig, ax = plt.subplots()\n",
    "bar_labels = ['Setosa', 'Versicolor', 'Virginica']\n",
    "class_counts = iris['Class'].value_counts()\n",
    "\n",
    "\n",
    "ax.bar(bar_labels, class_counts, color=['lightblue', 'orange', 'green'], label=bar_labels)\n",
    "ax.set_ylabel('Count')\n",
    "ax.set_title('Iris Flower')\n",
    "ax.legend(title='Iris Flower', bbox_to_anchor=(1, 1), loc='upper left')\n",
    "#plt.savefig('Bar chart for Class Attribute.png)\n",
    "plt.show()\n",
    "\n"
   ]
  },
  {
   "cell_type": "markdown",
   "metadata": {},
   "source": [
    "#### Numerical Variables"
   ]
  },
  {
   "cell_type": "markdown",
   "metadata": {},
   "source": [
    "Now that we have a clear understanding of the categorical variable 'Class' and its distribution in the Iris dataset, let's proceed with the **analysis of numerical variables**. *Numerical variables* can be explored through various *statistical measures* and *visualizations* to gain insights into their characteristics and relationships. One way to begin the exploration of numerical variables is to use **descriptive statistics** to summarize their *central tendency*, *dispersion*, and *shape* of the distribution. The Pandas `describe()` method is a handy tool for this purpose, providing key statistics such as *mean* (indicating the data's average), *standard deviation* (measuring the data's spread), *minimum* (identifying the smallest observed value for each variable), *25th/50th/75th percentile* (demonstrating the values below certain percentiles), and *maximum* (revealing the largest observed value for each variable)[15]. \n",
    "\n",
    "Let's apply this method to the numerical columns of the Iris dataset: **sepal_length_cm**, **sepal_width_cm**, **petal_length_cm**, and **petal_width_cm**\n",
    "\n"
   ]
  },
  {
   "cell_type": "code",
   "execution_count": 51,
   "metadata": {},
   "outputs": [
    {
     "name": "stdout",
     "output_type": "stream",
     "text": [
      "Iris Statistical information: \n"
     ]
    },
    {
     "data": {
      "text/html": [
       "<div>\n",
       "<style scoped>\n",
       "    .dataframe tbody tr th:only-of-type {\n",
       "        vertical-align: middle;\n",
       "    }\n",
       "\n",
       "    .dataframe tbody tr th {\n",
       "        vertical-align: top;\n",
       "    }\n",
       "\n",
       "    .dataframe thead th {\n",
       "        text-align: right;\n",
       "    }\n",
       "</style>\n",
       "<table border=\"1\" class=\"dataframe\">\n",
       "  <thead>\n",
       "    <tr style=\"text-align: right;\">\n",
       "      <th></th>\n",
       "      <th>Sepal_Length (cm)</th>\n",
       "      <th>Sepal_Width (cm)</th>\n",
       "      <th>Petal_Length (cm)</th>\n",
       "      <th>Petal_Width (cm)</th>\n",
       "    </tr>\n",
       "  </thead>\n",
       "  <tbody>\n",
       "    <tr>\n",
       "      <th>count</th>\n",
       "      <td>150.000000</td>\n",
       "      <td>150.000000</td>\n",
       "      <td>150.000000</td>\n",
       "      <td>150.000000</td>\n",
       "    </tr>\n",
       "    <tr>\n",
       "      <th>mean</th>\n",
       "      <td>5.843333</td>\n",
       "      <td>3.054000</td>\n",
       "      <td>3.758667</td>\n",
       "      <td>1.198667</td>\n",
       "    </tr>\n",
       "    <tr>\n",
       "      <th>std</th>\n",
       "      <td>0.828066</td>\n",
       "      <td>0.433594</td>\n",
       "      <td>1.764420</td>\n",
       "      <td>0.763161</td>\n",
       "    </tr>\n",
       "    <tr>\n",
       "      <th>min</th>\n",
       "      <td>4.300000</td>\n",
       "      <td>2.000000</td>\n",
       "      <td>1.000000</td>\n",
       "      <td>0.100000</td>\n",
       "    </tr>\n",
       "    <tr>\n",
       "      <th>25%</th>\n",
       "      <td>5.100000</td>\n",
       "      <td>2.800000</td>\n",
       "      <td>1.600000</td>\n",
       "      <td>0.300000</td>\n",
       "    </tr>\n",
       "    <tr>\n",
       "      <th>50%</th>\n",
       "      <td>5.800000</td>\n",
       "      <td>3.000000</td>\n",
       "      <td>4.350000</td>\n",
       "      <td>1.300000</td>\n",
       "    </tr>\n",
       "    <tr>\n",
       "      <th>75%</th>\n",
       "      <td>6.400000</td>\n",
       "      <td>3.300000</td>\n",
       "      <td>5.100000</td>\n",
       "      <td>1.800000</td>\n",
       "    </tr>\n",
       "    <tr>\n",
       "      <th>max</th>\n",
       "      <td>7.900000</td>\n",
       "      <td>4.400000</td>\n",
       "      <td>6.900000</td>\n",
       "      <td>2.500000</td>\n",
       "    </tr>\n",
       "  </tbody>\n",
       "</table>\n",
       "</div>"
      ],
      "text/plain": [
       "       Sepal_Length (cm)  Sepal_Width (cm)  Petal_Length (cm)  \\\n",
       "count         150.000000        150.000000         150.000000   \n",
       "mean            5.843333          3.054000           3.758667   \n",
       "std             0.828066          0.433594           1.764420   \n",
       "min             4.300000          2.000000           1.000000   \n",
       "25%             5.100000          2.800000           1.600000   \n",
       "50%             5.800000          3.000000           4.350000   \n",
       "75%             6.400000          3.300000           5.100000   \n",
       "max             7.900000          4.400000           6.900000   \n",
       "\n",
       "       Petal_Width (cm)  \n",
       "count        150.000000  \n",
       "mean           1.198667  \n",
       "std            0.763161  \n",
       "min            0.100000  \n",
       "25%            0.300000  \n",
       "50%            1.300000  \n",
       "75%            1.800000  \n",
       "max            2.500000  "
      ]
     },
     "execution_count": 51,
     "metadata": {},
     "output_type": "execute_result"
    }
   ],
   "source": [
    "print('Statistical summary of the dataset: ')\n",
    "iris.describe()"
   ]
  },
  {
   "cell_type": "markdown",
   "metadata": {},
   "source": [
    "The statistical summary provides valuable insights into the numerical attributes of the dataset. The mean sepal length is indeed 5.8 cm, which seems to be higher compared to the mean of the other three measurements. Petal length has the highest deviation (1.76 cm) and sepal width has the smallest (0.43 cm). The percentiles give an idea about the distribution of the data: For example, 50% of the observations have Sepal Length between 5.1 cm and 6.4 cm."
   ]
  },
  {
   "cell_type": "markdown",
   "metadata": {},
   "source": [
    "Now, let's visualize the distribution of numerical variables using histograms. Histograms provide a visual representation of the distribution of a dataset, showing the frequency of observations falling into different bins. We can create individual histograms for each numerical variable in the Iris dataset."
   ]
  },
  {
   "cell_type": "code",
   "execution_count": 55,
   "metadata": {},
   "outputs": [
    {
     "data": {
      "image/png": "[encoded data removed]",
      "text/plain": [
       "<Figure size 3000x400 with 4 Axes>"
      ]
     },
     "metadata": {},
     "output_type": "display_data"
    }
   ],
   "source": [
    "num_variables = ['Sepal_Length (cm)', 'Sepal_Width (cm)', 'Petal_Length (cm)', 'Petal_Width (cm)']\n",
    "\n",
    "fig, axes = plt.subplots(1,4, figsize=(30, 4))\n",
    "for i in range(len(num_variables)):\n",
    "    variable = num_variables[i]\n",
    "    \n",
    "    # Select data for the current variable\n",
    "    data = iris[variable]\n",
    "    axes[i].hist(data, bins=15, density=True)\n",
    "    axes[i].set(xlabel= 'Value', ylabel='Count')\n",
    "    axes[i].set_title(f'{variable} distribution')\n",
    "plt.suptitle(\"Histogram of Iris Numerical variables\")\n",
    "#plt.savefig('Raw data for Iris dataset')\n",
    "plt.show()"
   ]
  },
  {
   "cell_type": "markdown",
   "metadata": {},
   "source": [
    "### References\n",
    "\n",
    "[1] Chugh v., (2023). \"*Python pandas tutorial: The ultimate guide for beginners*\".[Datacamp](https://www.datacamp.com/tutorial/pandas)\n",
    "\n",
    "[2] Papers with code, (n.d.). \"*iris*\". [Papers with code](https://paperswithcode.com/dataset/iris-1#:~:text=for%20Spectral%20Clustering-,The%20Iris%20flower%20data%20set%20or%20Fisher's%20Iris%20data%20set,example%20of%20linear%20discriminant%20analysis.)\n",
    "\n",
    "[3] Unzueta D., (2021). \"*Fisher’s Linear Discriminant: Intuitively Explained*\". [Towards Data Science](https://towardsdatascience.com/fishers-linear-discriminant-intuitively-explained-52a1ba79e1bb)\n",
    "\n",
    "[4] Hadzhiev B., (2023). \"*How to read a CSV file from a URL using Python [4 Ways]*\". [bobbyhadz](https://bobbyhadz.com/blog/read-csv-file-from-url-using-python)\n",
    "\n",
    "[5] Zach, (2023).\"*Pandas: Set Column Names when Importing CSV File*\". [Statology](https://www.statology.org/pandas-read-csv-column-name/)\n",
    "\n",
    "[6] Shazra H., (2023). \"*head () and tail () Functions Explained with Examples and Codes*\". [Analytics Vidhya](https://www.analyticsvidhya.com/blog/2023/07/head-and-tail-functions/)\n",
    "\n",
    "[7] Pandas, (n.d.). \"*pandas.DataFrame.shape*\".[Pandas](https://pandas.pydata.org/docs/reference/api/pandas.DataFrame.shape.html)\n",
    "\n",
    "[8] Raj P., (n.d.).\"*Pandas – Get dataframe summary with info()*\". [Data Science Parichay](https://datascienceparichay.com/article/pandas-get-dataframe-summary-with-info/)\n",
    "\n",
    "[9] Pandas, (n.d.). \"*Working with text data*\". [Pandas](https://pandas.pydata.org/docs/user_guide/text.html)\n",
    "\n",
    "[10] Data to Fish, (2021). \"Select all Rows with NaN Values in Pandas DataFrame\". [Data to Fish](https://datatofish.com/rows-with-nan-pandas-dataframe/)\n",
    "\n",
    "[11] note.nkmk.me, (2021). \"pandas: Find and remove duplicate rows of DataFrame, Series\". [note.nkmk.me](https://note.nkmk.me/en/python-pandas-duplicated-drop-duplicates/#:~:text=You%20can%20count%20the%20number,counted%20with%20sum()%20method.&text=If%20you%20want%20to%20count,count%20True%20with%20sum()%20)\n",
    "\n",
    "[12] UCLA: Statistical Consulting Group. (n.d.). “*WHAT IS THE DIFFERENCE BETWEEN CATEGORICAL, ORDINAL AND INTERVAL VARIABLES?*”. [Statistical Methods and Data Analytics](https://stats.oarc.ucla.edu/other/mult-pkg/whatstat/what-is-the-difference-between-categorical-ordinal-and-interval-variables/)\n",
    "\n",
    "[13] Zebra Bi, (2023). \"*How to Customize Pie Chart in Python (matplotlib)*\". [Zebra Bi](https://zebrabi.com/guide/how-to-customize-pie-chart-in-python-matplotlib/#:~:text=Pie%20charts%20are%20an%20effective,a%20few%20lines%20of%20code.)\n",
    "\n",
    "[14] Siddharth M., (2023). \"*How to Create a Bar Plot in Python: A Step-by-Step Guide (Updated 2023)*\". [Analytics Vidya](https://www.analyticsvidhya.com/blog/2021/08/understanding-bar-plots-in-python-beginners-guide-to-data-visualization/)\n",
    "\n",
    "[15] W3School, (n.d.). \"*Pandas DataFrame describe() Method*\". [W3School](https://www.w3schools.com/python/pandas/ref_df_describe.asp)"
   ]
  },
  {
   "cell_type": "markdown",
   "metadata": {},
   "source": [
    "### Additional readings\n",
    "\n",
    "- Anderson E., (1935). \"*The Irises of the Gaspe Penisula*\". From AIS Bulletin #59, Missouri Botanical Garden.\n",
    "- R. A. Fisher (1936). \"*The use of multiple measurements in taxonomic problems*\". Annals of Eugenics. 7 (2): 179–188."
   ]
  },
  {
   "cell_type": "markdown",
   "metadata": {},
   "source": [
    "***\n",
    "End"
   ]
  }
 ],
 "metadata": {
  "kernelspec": {
   "display_name": "base",
   "language": "python",
   "name": "python3"
  },
  "language_info": {
   "codemirror_mode": {
    "name": "ipython",
    "version": 3
   },
   "file_extension": ".py",
   "mimetype": "text/x-python",
   "name": "python",
   "nbconvert_exporter": "python",
   "pygments_lexer": "ipython3",
   "version": "3.9.13"
  }
 },
 "nbformat": 4,
 "nbformat_minor": 2
}
