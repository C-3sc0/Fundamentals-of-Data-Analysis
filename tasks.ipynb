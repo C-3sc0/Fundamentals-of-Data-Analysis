{
 "cells": [
  {
   "cell_type": "markdown",
   "metadata": {},
   "source": [
    "## Fundamentals of Data Analysis Tasks\n",
    "\n",
    "**Francesco Troja**\n",
    "\n",
    "***"
   ]
  },
  {
   "cell_type": "markdown",
   "metadata": {},
   "source": [
    "#### *Tasks 1 - The Collatz Conjecture*"
   ]
  },
  {
   "cell_type": "markdown",
   "metadata": {},
   "source": [
    "1. Introduction\n",
    "\n",
    "The **Collatz Conjecture**, first proposed by mathematician *Lothar Collatz* in 1937, is a well-known unresolved mathematical issue. Over the years, it has been labelled the \"**3n + 1 problem**,\" the \"**Ulam conjecture**\" (in honor of Stanislaw Ulam), and the \"**Syracuse problem**.\" The Collatz Conjecture has attracted the attention and interest of various researchers, each of whom has contributed to its study, promotion, or discussion. [1] (Negash, D. J. (2021, October 13). Collatz Theorem. *Addis Ababa Science and Technology University*. Addis Ababa, Ethiopia)\n"
   ]
  },
  {
   "cell_type": "markdown",
   "metadata": {},
   "source": [
    "2. Formula\n",
    "   \n",
    "Let's examine the formula associated with the Collatz conjecture:\n",
    "\n",
    "$$\n",
    "f(x) = \\left\\{\n",
    "\\begin{array}{ll}\n",
    "\\frac{n}{2} & \\text{if } x \\text{ is even} \\\\\n",
    "3x + 1 & \\text{if } x \\text{ is odd}\n",
    "\\end{array}\n",
    "\\right.\n",
    "$$"
   ]
  },
  {
   "cell_type": "markdown",
   "metadata": {},
   "source": [
    "3. Statement of the problem\n",
    "\n",
    "The **Collatz Conjecture** focuses on sequences that commence with any *positive integer*. It states that when we commence with a positive integer, denoted as **$x$**, each successive term is determined by the following rules:\n",
    "\n",
    "- If the number is **even**, divide it by two (*$\\frac{x}{2}$*)\n",
    "- If the number is **odd**, multiple it by three and add one (*$3x+1$*)\n",
    "\n",
    "The conjecture suggests that irrespective of the initial positive integer chosen and the application of these rules, the sequence of numbers generated will eventually reach the value **$1$**.\n",
    "Although this assertion has been demonstrated to be true for a wide range of starting values, including very large ones, it remains unproven whether the conjecture holds for all positive integers or if there exists a counterexample. As a result, the ultimate validity or invalidity of the Collatz Conjecture remains an unsolved question in mathematics [2](https://testbook.com/maths/collatz-conjecture 'Conjecture: Importance and History of Collatz Conjecture').\n"
   ]
  },
  {
   "cell_type": "code",
   "execution_count": 33,
   "metadata": {},
   "outputs": [],
   "source": [
    "def collatz(x):\n",
    "    print(f'Testing Collatz with initial value {x}')\n",
    "    while x != 1:\n",
    "        # if x is even, divide it by two\n",
    "        if (x % 2) == 0:\n",
    "            x = x // 2\n",
    "        else:\n",
    "            # if it is odd, triple it and add one\n",
    "            x = (x * 3 + 1)\n",
    "        print(x, end= \" \")"
   ]
  },
  {
   "cell_type": "code",
   "execution_count": 34,
   "metadata": {},
   "outputs": [
    {
     "name": "stdout",
     "output_type": "stream",
     "text": [
      "Testing Collatz with initial value 10000\n",
      "5000 2500 1250 625 1876 938 469 1408 704 352 176 88 44 22 11 34 17 52 26 13 40 20 10 5 16 8 4 2 1 "
     ]
    }
   ],
   "source": [
    "collatz(10000)"
   ]
  },
  {
   "cell_type": "markdown",
   "metadata": {},
   "source": [
    "***\n",
    "End"
   ]
  }
 ],
 "metadata": {
  "kernelspec": {
   "display_name": "base",
   "language": "python",
   "name": "python3"
  },
  "language_info": {
   "codemirror_mode": {
    "name": "ipython",
    "version": 3
   },
   "file_extension": ".py",
   "mimetype": "text/x-python",
   "name": "python",
   "nbconvert_exporter": "python",
   "pygments_lexer": "ipython3",
   "version": "3.10.10"
  },
  "orig_nbformat": 4
 },
 "nbformat": 4,
 "nbformat_minor": 2
}
