{
 "cells": [
  {
   "cell_type": "markdown",
   "metadata": {},
   "source": [
    "## Fundamentals of Data Analysis Tasks\n",
    "\n",
    "**Francesco Troja**\n",
    "\n",
    "***"
   ]
  },
  {
   "cell_type": "markdown",
   "metadata": {},
   "source": [
    "#### *Tasks 1 - The Collatz Conjecture*"
   ]
  },
  {
   "cell_type": "markdown",
   "metadata": {},
   "source": [
    "The Collatz Conjecture is to prove that if you start with any positive integer $x$ and repeatedly apply the function $f(x)$ below, you always get stuck in the repeating sequence 1,4,2,1,4,2...\n",
    "\n",
    "Let's examine the formula associated with the Collatz conjecture:\n",
    "\n",
    "$$\n",
    "f(x) = \\left\\{\n",
    "\\begin{array}{ll}\n",
    "\\frac{x}{2} & \\text{if } x \\text{ is even} \\\\\n",
    "3x + 1 & \\text{if } x \\text{ is odd}\n",
    "\\end{array}\n",
    "\\right.\n",
    "$$"
   ]
  },
  {
   "cell_type": "code",
   "execution_count": null,
   "metadata": {},
   "outputs": [],
   "source": [
    "def collatz(x):\n",
    "    print(f'Testing Collatz with initial value {x}')\n",
    "    steps = 0\n",
    "    while x != 1:\n",
    "        # if x is even, divide it by two\n",
    "        if (x % 2) == 0:\n",
    "            x = x // 2\n",
    "        else:\n",
    "            # if it is odd, triple it and add one\n",
    "            x = (x * 3 + 1)\n",
    "        print(x, end= \" \")\n",
    "        # add a step for each loop\n",
    "        steps += 1\n",
    "    print(f'\\nSteps required to reach 1: {steps}')\n"
   ]
  },
  {
   "cell_type": "code",
   "execution_count": null,
   "metadata": {},
   "outputs": [],
   "source": [
    "collatz(10000)"
   ]
  },
  {
   "cell_type": "markdown",
   "metadata": {},
   "source": [
    "### Visualizing Stopping Times"
   ]
  },
  {
   "cell_type": "markdown",
   "metadata": {},
   "source": [
    "To visualize a scatter plot in Python, the matplotlib.pyplot library needs to be imported."
   ]
  },
  {
   "cell_type": "code",
   "execution_count": null,
   "metadata": {},
   "outputs": [],
   "source": [
    "import matplotlib.pyplot as plt\n",
    "\n",
    "def collatz(x):\n",
    "    steps = 0\n",
    "    while x != 1:\n",
    "        if (x % 2) == 0:\n",
    "            x = x // 2\n",
    "        else:\n",
    "            x = (x * 3 + 1)\n",
    "        steps += 1\n",
    "    return steps\n",
    "\n",
    "initial_values = list(range(1, 10001))  # Change the range as needed\n",
    "stopping_times = []\n",
    "\n",
    "for x in initial_values:\n",
    "    stopping_time = collatz(x)\n",
    "    stopping_times.append(stopping_time)\n",
    "\n",
    "# Create a scatterplot\n",
    "plt.scatter(initial_values, stopping_times, s=5)\n",
    "plt.xlabel('Initial Value')\n",
    "plt.ylabel('Steps to Reach 1')\n",
    "plt.title('Stopping Points of the Collatz Conjecture')\n",
    "plt.grid(True)\n",
    "\n",
    "plt.show()"
   ]
  },
  {
   "cell_type": "markdown",
   "metadata": {},
   "source": [
    "***\n",
    "End"
   ]
  }
 ],
 "metadata": {
  "kernelspec": {
   "display_name": "base",
   "language": "python",
   "name": "python3"
  },
  "language_info": {
   "codemirror_mode": {
    "name": "ipython",
    "version": 3
   },
   "file_extension": ".py",
   "mimetype": "text/x-python",
   "name": "python",
   "nbconvert_exporter": "python",
   "pygments_lexer": "ipython3",
   "version": "3.9.13"
  },
  "orig_nbformat": 4
 },
 "nbformat": 4,
 "nbformat_minor": 2
}
